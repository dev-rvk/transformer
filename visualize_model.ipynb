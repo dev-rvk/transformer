{
 "cells": [
  {
   "cell_type": "code",
   "execution_count": 2,
   "metadata": {
    "collapsed": true,
    "ExecuteTime": {
     "end_time": "2024-04-15T09:10:53.712659Z",
     "start_time": "2024-04-15T09:10:52.003608Z"
    }
   },
   "outputs": [
    {
     "name": "stdout",
     "output_type": "stream",
     "text": [
      "torch.Size([1, 4, 512])\n",
      "tensor([[[-1.5254,  1.0130, -1.3610,  ..., -0.1953, -0.8075,  1.3952],\n",
      "         [ 0.5120,  1.3492, -0.0503,  ..., -1.0614,  0.5556, -0.8369],\n",
      "         [-1.4090,  0.6630, -0.5245,  ..., -1.1362,  0.6258, -0.2045],\n",
      "         [ 0.7597,  0.1652, -0.4110,  ..., -0.1053,  0.0129, -0.2645]]],\n",
      "       grad_fn=<AddBackward0>)\n"
     ]
    }
   ],
   "source": [
    "import torch\n",
    "from tokenizer.tokenizer import Tokenizer\n",
    "from encoder import Encoder\n",
    "from decoder import Decoder"
   ]
  },
  {
   "cell_type": "code",
   "execution_count": 3,
   "outputs": [],
   "source": [
    "VOCAB_SIZE = 100256\n",
    "D_MODEL = 512\n",
    "NUM_HEADS = 8\n",
    "D_FF = 2048"
   ],
   "metadata": {
    "collapsed": false,
    "ExecuteTime": {
     "end_time": "2024-04-15T09:10:55.436762Z",
     "start_time": "2024-04-15T09:10:55.427088Z"
    }
   }
  },
  {
   "cell_type": "code",
   "execution_count": 4,
   "outputs": [],
   "source": [
    "# take input\n",
    "input_text = \"hello world!\""
   ],
   "metadata": {
    "collapsed": false,
    "ExecuteTime": {
     "end_time": "2024-04-15T09:10:56.850280Z",
     "start_time": "2024-04-15T09:10:56.844082Z"
    }
   }
  },
  {
   "cell_type": "code",
   "execution_count": 5,
   "outputs": [
    {
     "name": "stderr",
     "output_type": "stream",
     "text": [
      "/Users/raghav/Desktop/Data/GPT-2/venv/lib/python3.9/site-packages/urllib3/__init__.py:35: NotOpenSSLWarning: urllib3 v2 only supports OpenSSL 1.1.1+, currently the 'ssl' module is compiled with 'LibreSSL 2.8.3'. See: https://github.com/urllib3/urllib3/issues/3020\n",
      "  warnings.warn(\n"
     ]
    }
   ],
   "source": [
    "tokenizer = Tokenizer()\n",
    "encoder = Encoder(d_model=D_MODEL, vocab_size=VOCAB_SIZE, num_heads= NUM_HEADS, d_ff=D_FF, num_layers=8)\n",
    "decoder = Decoder(vocab_size=VOCAB_SIZE, d_model=D_MODEL, num_layers=12, num_heads=NUM_HEADS, d_ff=D_FF)\n"
   ],
   "metadata": {
    "collapsed": false,
    "ExecuteTime": {
     "end_time": "2024-04-15T09:11:00.818930Z",
     "start_time": "2024-04-15T09:10:59.928595Z"
    }
   }
  },
  {
   "cell_type": "code",
   "execution_count": 6,
   "outputs": [
    {
     "data": {
      "text/plain": "tensor([15339,  1917,     0])"
     },
     "execution_count": 6,
     "metadata": {},
     "output_type": "execute_result"
    }
   ],
   "source": [
    "tokens = torch.tensor(tokenizer.encode(input_text))\n",
    "tokens"
   ],
   "metadata": {
    "collapsed": false,
    "ExecuteTime": {
     "end_time": "2024-04-15T09:11:01.858273Z",
     "start_time": "2024-04-15T09:11:01.834583Z"
    }
   }
  },
  {
   "cell_type": "code",
   "execution_count": 7,
   "outputs": [],
   "source": [
    "def create_padding_mask(seq):\n",
    "    mask = (seq == 0)\n",
    "    return mask.unsqueeze(1).unsqueeze(2)\n",
    "\n",
    "# Create padding mask for the input\n",
    "padding_mask = create_padding_mask(tokens)"
   ],
   "metadata": {
    "collapsed": false,
    "ExecuteTime": {
     "end_time": "2024-04-15T09:11:03.751931Z",
     "start_time": "2024-04-15T09:11:03.725451Z"
    }
   }
  },
  {
   "cell_type": "code",
   "execution_count": 8,
   "outputs": [],
   "source": [
    "padding_mask = None"
   ],
   "metadata": {
    "collapsed": false,
    "ExecuteTime": {
     "end_time": "2024-04-15T09:11:13.810950Z",
     "start_time": "2024-04-15T09:11:13.804820Z"
    }
   }
  },
  {
   "cell_type": "code",
   "execution_count": 11,
   "outputs": [
    {
     "data": {
      "text/plain": "torch.Size([1, 3, 512])"
     },
     "execution_count": 11,
     "metadata": {},
     "output_type": "execute_result"
    }
   ],
   "source": [
    "encoded_out = encoder(tokens.unsqueeze(0), padding_mask)\n",
    "encoded_out.shape"
   ],
   "metadata": {
    "collapsed": false,
    "ExecuteTime": {
     "end_time": "2024-04-15T09:11:44.743582Z",
     "start_time": "2024-04-15T09:11:44.679769Z"
    }
   }
  },
  {
   "cell_type": "code",
   "execution_count": null,
   "outputs": [],
   "source": [
    "decoded_out = decoder(encoded_out, )"
   ],
   "metadata": {
    "collapsed": false
   }
  }
 ],
 "metadata": {
  "kernelspec": {
   "display_name": "Python 3",
   "language": "python",
   "name": "python3"
  },
  "language_info": {
   "codemirror_mode": {
    "name": "ipython",
    "version": 2
   },
   "file_extension": ".py",
   "mimetype": "text/x-python",
   "name": "python",
   "nbconvert_exporter": "python",
   "pygments_lexer": "ipython2",
   "version": "2.7.6"
  }
 },
 "nbformat": 4,
 "nbformat_minor": 0
}
